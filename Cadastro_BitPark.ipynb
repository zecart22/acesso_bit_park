{
 "cells": [
  {
   "cell_type": "code",
   "execution_count": null,
   "metadata": {},
   "outputs": [],
   "source": [
    "#promaga que vai dizer se uma pessoa pode ou não entrar no clube.\n",
    "#o requisito é : idade acima de 18 anos \n",
    "\n",
    "#cadastro básico\n",
    "print(\"Olá seja bem vindo ao Bit Park\")\n",
    "print(\"Para sua segurança e conforto faremos um breve cadastro com suas informações básicas\")\n",
    "print(\"Vamos começar\")"
   ]
  },
  {
   "cell_type": "code",
   "execution_count": null,
   "metadata": {},
   "outputs": [],
   "source": [
    "nome = input (\"digite seu nome: \")\n",
    "sobrenome = input (\"digite seu sobrenome: \")\n",
    "idade = int (input (\"digite sua idade: \"))\n",
    "telefone = input (\"digite seu telefone: \")\n",
    "cpf = input(\"digite seu cpf: \")"
   ]
  },
  {
   "cell_type": "code",
   "execution_count": null,
   "metadata": {},
   "outputs": [],
   "source": [
    "if idade >= 18:\n",
    "    print(\"Parabéns seu cadastro está aprovado\")\n",
    "else:\n",
    "    print(\"Erro: É necessário seu maior de 18 anos para entrar em nosso parque, te aguardamos em breve\")\n",
    "        "
   ]
  },
  {
   "cell_type": "code",
   "execution_count": null,
   "metadata": {},
   "outputs": [],
   "source": []
  }
 ],
 "metadata": {
  "kernelspec": {
   "display_name": "Python 3",
   "language": "python",
   "name": "python3"
  },
  "language_info": {
   "codemirror_mode": {
    "name": "ipython",
    "version": 3
   },
   "file_extension": ".py",
   "mimetype": "text/x-python",
   "name": "python",
   "nbconvert_exporter": "python",
   "pygments_lexer": "ipython3",
   "version": "3.8.5"
  }
 },
 "nbformat": 4,
 "nbformat_minor": 4
}
